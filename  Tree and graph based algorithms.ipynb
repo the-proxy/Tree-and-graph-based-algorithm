{
 "cells": [
  {
   "cell_type": "markdown",
   "metadata": {},
   "source": [
    "# INSERTING A NODE IN BST"
   ]
  },
  {
   "cell_type": "code",
   "execution_count": null,
   "metadata": {},
   "outputs": [],
   "source": [
    "If root is NULL \n",
    "   then create root node\n",
    "return\n",
    "\n",
    "If root exists then\n",
    "   compare the data with node.data\n",
    "   \n",
    "   while until insertion position is located\n",
    "\n",
    "      If data is greater than node.data\n",
    "         goto right subtree\n",
    "      else\n",
    "         goto left subtree\n",
    "\n",
    "   endwhile \n",
    "   \n",
    "   insert data\n",
    "\t\n",
    "end If      "
   ]
  },
  {
   "cell_type": "markdown",
   "metadata": {},
   "source": [
    "# SEARCHING FOR A NODE "
   ]
  },
  {
   "cell_type": "code",
   "execution_count": null,
   "metadata": {},
   "outputs": [],
   "source": [
    "If root.data is equal to search.data\n",
    "   return root\n",
    "else\n",
    "   while data not found\n",
    "\n",
    "      If data is greater than node.data\n",
    "         goto right subtree\n",
    "      else\n",
    "         goto left subtree\n",
    "         \n",
    "      If data found\n",
    "         return node\n",
    "   endwhile \n",
    "   \n",
    "   return data not found\n",
    "   \n",
    "end if      "
   ]
  },
  {
   "cell_type": "markdown",
   "metadata": {},
   "source": [
    "# TRAVERSAL"
   ]
  },
  {
   "cell_type": "markdown",
   "metadata": {},
   "source": [
    "IN-ORDER TRAVERSAL ALGORITHM"
   ]
  },
  {
   "cell_type": "code",
   "execution_count": null,
   "metadata": {},
   "outputs": [],
   "source": [
    "Until all nodes are traversed −\n",
    "Step 1 − Recursively traverse left subtree.\n",
    "Step 2 − Visit root node.\n",
    "Step 3 − Recursively traverse right subtree."
   ]
  },
  {
   "cell_type": "markdown",
   "metadata": {},
   "source": [
    "PRE ORDER TRAVERSAL "
   ]
  },
  {
   "cell_type": "code",
   "execution_count": null,
   "metadata": {},
   "outputs": [],
   "source": [
    "Until all nodes are traversed −\n",
    "Step 1 − Visit root node.\n",
    "Step 2 − Recursively traverse left subtree.\n",
    "Step 3 − Recursively traverse right subtree."
   ]
  },
  {
   "cell_type": "markdown",
   "metadata": {},
   "source": [
    "POST-ORDER TRAVERSAL"
   ]
  },
  {
   "cell_type": "code",
   "execution_count": null,
   "metadata": {},
   "outputs": [],
   "source": [
    "Until all nodes are traversed −\n",
    "Step 1 − Recursively traverse left subtree.\n",
    "Step 2 − Recursively traverse right subtree.\n",
    "Step 3 − Visit root node."
   ]
  },
  {
   "cell_type": "markdown",
   "metadata": {},
   "source": [
    "# DEPTH FIRST SEARCH ALGORITHM "
   ]
  },
  {
   "cell_type": "code",
   "execution_count": null,
   "metadata": {},
   "outputs": [],
   "source": [
    "Step 1: SET STATUS = 1 (ready state) for each node in G\n",
    "Step 2: Push the starting node A on the stack and set its STATUS = 2 (waiting state)\n",
    "Step 3: Repeat Steps 4 and 5 until STACK is empty\n",
    "Step 4: Pop the top node N. Process it and set its STATUS = 3 (processed state)\n",
    "Step 5: Push on the stack all the neighbours of N that are in the ready state (whose STATUS = 1) and set their\n",
    "STATUS = 2 (waiting state)\n",
    "[END OF LOOP]\n",
    "Step 6: EXIT"
   ]
  },
  {
   "cell_type": "markdown",
   "metadata": {},
   "source": [
    "# BREADTH-FIRST SEARCH ALGORITHM"
   ]
  },
  {
   "cell_type": "code",
   "execution_count": null,
   "metadata": {},
   "outputs": [],
   "source": [
    "Step 1: SET STATUS = 1 (ready state)\n",
    "for each node in G\n",
    "Step 2: Enqueue the starting node A\n",
    "and set its STATUS = 2\n",
    "(waiting state)\n",
    "Step 3: Repeat Steps 4 and 5 until\n",
    "QUEUE is empty\n",
    "Step 4: Dequeue a node N. Process it\n",
    "and set its STATUS = 3\n",
    "(processed state).\n",
    "Step 5: Enqueue all the neighbours of\n",
    "N that are in the ready state\n",
    "(whose STATUS = 1) and set\n",
    "their STATUS = 2\n",
    "(waiting state)\n",
    "[END OF LOOP]\n",
    "Step 6: EXIT"
   ]
  },
  {
   "cell_type": "code",
   "execution_count": null,
   "metadata": {},
   "outputs": [],
   "source": []
  }
 ],
 "metadata": {
  "kernelspec": {
   "display_name": "Python 3",
   "language": "python",
   "name": "python3"
  },
  "language_info": {
   "codemirror_mode": {
    "name": "ipython",
    "version": 3
   },
   "file_extension": ".py",
   "mimetype": "text/x-python",
   "name": "python",
   "nbconvert_exporter": "python",
   "pygments_lexer": "ipython3",
   "version": "3.8.5"
  }
 },
 "nbformat": 4,
 "nbformat_minor": 4
}
